{
 "cells": [
  {
   "cell_type": "code",
   "execution_count": 106,
   "id": "9d99c0d2",
   "metadata": {},
   "outputs": [],
   "source": [
    "import pandas as pd\n",
    "import numpy as np\n",
    "from matplotlib import pyplot as plt\n",
    "from sklearn.feature_extraction.text import CountVectorizer\n",
    "from sklearn.model_selection import train_test_split as tts\n",
    "import re\n",
    "from tensorflow.keras.preprocessing import sequence\n",
    "from tensorflow.keras.preprocessing.text import Tokenizer\n",
    "from tensorflow.keras.preprocessing.sequence import pad_sequences\n",
    "from tensorflow.keras.models import Sequential\n",
    "from tensorflow.keras.layers import Dense, Embedding, LSTM\n",
    "from tensorflow.keras.datasets import imdb\n",
    "from tensorflow.keras.utils import to_categorical\n",
    "\n"
   ]
  },
  {
   "cell_type": "code",
   "execution_count": 107,
   "id": "64e28d4d",
   "metadata": {},
   "outputs": [],
   "source": [
    "df=pd.read_csv(\"Senti.csv\")"
   ]
  },
  {
   "cell_type": "code",
   "execution_count": 108,
   "id": "d6f6006e",
   "metadata": {},
   "outputs": [
    {
     "data": {
      "text/html": [
       "<div>\n",
       "<style scoped>\n",
       "    .dataframe tbody tr th:only-of-type {\n",
       "        vertical-align: middle;\n",
       "    }\n",
       "\n",
       "    .dataframe tbody tr th {\n",
       "        vertical-align: top;\n",
       "    }\n",
       "\n",
       "    .dataframe thead th {\n",
       "        text-align: right;\n",
       "    }\n",
       "</style>\n",
       "<table border=\"1\" class=\"dataframe\">\n",
       "  <thead>\n",
       "    <tr style=\"text-align: right;\">\n",
       "      <th></th>\n",
       "      <th>id</th>\n",
       "      <th>text</th>\n",
       "      <th>sentiment</th>\n",
       "    </tr>\n",
       "  </thead>\n",
       "  <tbody>\n",
       "    <tr>\n",
       "      <th>0</th>\n",
       "      <td>1</td>\n",
       "      <td>I love this car</td>\n",
       "      <td>Positive</td>\n",
       "    </tr>\n",
       "    <tr>\n",
       "      <th>1</th>\n",
       "      <td>2</td>\n",
       "      <td>This view is amazing</td>\n",
       "      <td>Positive</td>\n",
       "    </tr>\n",
       "    <tr>\n",
       "      <th>2</th>\n",
       "      <td>3</td>\n",
       "      <td>I feel great this morning</td>\n",
       "      <td>Positive</td>\n",
       "    </tr>\n",
       "    <tr>\n",
       "      <th>3</th>\n",
       "      <td>4</td>\n",
       "      <td>I am so excited about the concert</td>\n",
       "      <td>Positive</td>\n",
       "    </tr>\n",
       "    <tr>\n",
       "      <th>4</th>\n",
       "      <td>5</td>\n",
       "      <td>He is my best friend</td>\n",
       "      <td>Positive</td>\n",
       "    </tr>\n",
       "    <tr>\n",
       "      <th>5</th>\n",
       "      <td>6</td>\n",
       "      <td>I do not like this car</td>\n",
       "      <td>Negative</td>\n",
       "    </tr>\n",
       "    <tr>\n",
       "      <th>6</th>\n",
       "      <td>7</td>\n",
       "      <td>This view is horrible</td>\n",
       "      <td>Negative</td>\n",
       "    </tr>\n",
       "    <tr>\n",
       "      <th>7</th>\n",
       "      <td>8</td>\n",
       "      <td>I feel tired this morning</td>\n",
       "      <td>Negative</td>\n",
       "    </tr>\n",
       "    <tr>\n",
       "      <th>8</th>\n",
       "      <td>9</td>\n",
       "      <td>I am not looking forward to the concert</td>\n",
       "      <td>Negative</td>\n",
       "    </tr>\n",
       "    <tr>\n",
       "      <th>9</th>\n",
       "      <td>10</td>\n",
       "      <td>He is my enemy</td>\n",
       "      <td>Negative</td>\n",
       "    </tr>\n",
       "  </tbody>\n",
       "</table>\n",
       "</div>"
      ],
      "text/plain": [
       "   id                                     text sentiment\n",
       "0   1                          I love this car  Positive\n",
       "1   2                     This view is amazing  Positive\n",
       "2   3                I feel great this morning  Positive\n",
       "3   4        I am so excited about the concert  Positive\n",
       "4   5                     He is my best friend  Positive\n",
       "5   6                   I do not like this car  Negative\n",
       "6   7                    This view is horrible  Negative\n",
       "7   8                I feel tired this morning  Negative\n",
       "8   9  I am not looking forward to the concert  Negative\n",
       "9  10                           He is my enemy  Negative"
      ]
     },
     "execution_count": 108,
     "metadata": {},
     "output_type": "execute_result"
    }
   ],
   "source": [
    "df"
   ]
  },
  {
   "cell_type": "code",
   "execution_count": 109,
   "id": "00f1b91c",
   "metadata": {},
   "outputs": [
    {
     "data": {
      "text/plain": [
       "(10, 3)"
      ]
     },
     "execution_count": 109,
     "metadata": {},
     "output_type": "execute_result"
    }
   ],
   "source": [
    "df.shape"
   ]
  },
  {
   "cell_type": "code",
   "execution_count": 110,
   "id": "ce017c44",
   "metadata": {},
   "outputs": [],
   "source": [
    "import re\n",
    "\n",
    "df = df[df.sentiment != \"Neutral\"]\n",
    "df['text'] = df['text'].apply(lambda x: x.lower())\n",
    "df['text'] = df['text'].apply(lambda x: re.sub(r'[^a-zA-Z0-9\\s]', '', x)) # removing all the special character form the txt "
   ]
  },
  {
   "cell_type": "code",
   "execution_count": 111,
   "id": "ff3120d2",
   "metadata": {},
   "outputs": [
    {
     "data": {
      "text/plain": [
       "0                            i love this car\n",
       "1                       this view is amazing\n",
       "2                  i feel great this morning\n",
       "3          i am so excited about the concert\n",
       "4                       he is my best friend\n",
       "5                     i do not like this car\n",
       "6                      this view is horrible\n",
       "7                  i feel tired this morning\n",
       "8    i am not looking forward to the concert\n",
       "9                             he is my enemy\n",
       "Name: text, dtype: object"
      ]
     },
     "execution_count": 111,
     "metadata": {},
     "output_type": "execute_result"
    }
   ],
   "source": [
    "df['text']"
   ]
  },
  {
   "cell_type": "code",
   "execution_count": 112,
   "id": "31f6bcf4",
   "metadata": {},
   "outputs": [],
   "source": [
    "df.iloc[:, 0] = df.iloc[:, 0].astype(str).str.replace('rt', ' ').astype(int)"
   ]
  },
  {
   "cell_type": "code",
   "execution_count": 113,
   "id": "d4f2270c",
   "metadata": {},
   "outputs": [
    {
     "name": "stdout",
     "output_type": "stream",
     "text": [
      "<keras.src.legacy.preprocessing.text.Tokenizer object at 0x0000026E6B6FF050>\n"
     ]
    },
    {
     "name": "stderr",
     "output_type": "stream",
     "text": [
      "c:\\Users\\somes\\anaconda3\\Lib\\site-packages\\keras\\src\\legacy\\preprocessing\\text.py:98: UserWarning: The `nb_words` argument in `Tokenizer` has been renamed `num_words`.\n",
      "  warnings.warn(\n"
     ]
    }
   ],
   "source": [
    "max_feature=2000\n",
    "tokenizer=Tokenizer(nb_words=max_feature,split=' ')\n",
    "print(tokenizer)"
   ]
  },
  {
   "cell_type": "code",
   "execution_count": 132,
   "id": "67164065",
   "metadata": {},
   "outputs": [],
   "source": [
    "tokenizer.fit_on_texts(df['text'].values)\n"
   ]
  },
  {
   "cell_type": "code",
   "execution_count": 133,
   "id": "30bd3981",
   "metadata": {},
   "outputs": [],
   "source": [
    "x=tokenizer.texts_to_sequences(df['text'].values)\n",
    "x=pad_sequences(x)"
   ]
  },
  {
   "cell_type": "code",
   "execution_count": 115,
   "id": "c96316fa",
   "metadata": {},
   "outputs": [
    {
     "name": "stdout",
     "output_type": "stream",
     "text": [
      "[[ 0  0  0  0  1 14  2  4]\n",
      " [ 0  0  0  0  2  5  3 15]\n",
      " [ 0  0  0  1  6 16  2  7]\n",
      " [ 0  1  8 17 18 19  9 10]\n",
      " [ 0  0  0 11  3 12 20 21]\n",
      " [ 0  0  1 22 13 23  2  4]\n",
      " [ 0  0  0  0  2  5  3 24]\n",
      " [ 0  0  0  1  6 25  2  7]\n",
      " [ 1  8 13 26 27 28  9 10]\n",
      " [ 0  0  0  0 11  3 12 29]]\n"
     ]
    }
   ],
   "source": [
    "print(x)"
   ]
  },
  {
   "cell_type": "code",
   "execution_count": 116,
   "id": "56348c7d",
   "metadata": {},
   "outputs": [],
   "source": [
    "y= pd.get_dummies(df['sentiment']).values"
   ]
  },
  {
   "cell_type": "code",
   "execution_count": 117,
   "id": "99ac272b",
   "metadata": {},
   "outputs": [
    {
     "data": {
      "text/plain": [
       "array([[False,  True],\n",
       "       [False,  True],\n",
       "       [False,  True],\n",
       "       [False,  True],\n",
       "       [False,  True],\n",
       "       [ True, False],\n",
       "       [ True, False],\n",
       "       [ True, False],\n",
       "       [ True, False],\n",
       "       [ True, False]])"
      ]
     },
     "execution_count": 117,
     "metadata": {},
     "output_type": "execute_result"
    }
   ],
   "source": [
    "y"
   ]
  },
  {
   "cell_type": "code",
   "execution_count": 118,
   "id": "d903edc5",
   "metadata": {},
   "outputs": [
    {
     "name": "stdout",
     "output_type": "stream",
     "text": [
      "shape of training samples (7, 8) (7, 2)\n",
      "shape of testing sample (3, 8) (3, 2)\n"
     ]
    }
   ],
   "source": [
    "x_train,x_test,y_train,y_test=tts(x,y,test_size=0.3,random_state=42)\n",
    "print('shape of training samples',x_train.shape,y_train.shape)\n",
    "print('shape of testing sample',x_test.shape,y_test.shape) "
   ]
  },
  {
   "cell_type": "code",
   "execution_count": 119,
   "id": "12c62317",
   "metadata": {},
   "outputs": [
    {
     "data": {
      "text/plain": [
       "array([ 0,  0,  0,  1,  6, 25,  2,  7])"
      ]
     },
     "execution_count": 119,
     "metadata": {},
     "output_type": "execute_result"
    }
   ],
   "source": [
    "x_train[1]"
   ]
  },
  {
   "cell_type": "code",
   "execution_count": 120,
   "id": "c188ec68",
   "metadata": {},
   "outputs": [
    {
     "data": {
      "text/html": [
       "<pre style=\"white-space:pre;overflow-x:auto;line-height:normal;font-family:Menlo,'DejaVu Sans Mono',consolas,'Courier New',monospace\"><span style=\"font-weight: bold\">Model: \"sequential_7\"</span>\n",
       "</pre>\n"
      ],
      "text/plain": [
       "\u001b[1mModel: \"sequential_7\"\u001b[0m\n"
      ]
     },
     "metadata": {},
     "output_type": "display_data"
    },
    {
     "data": {
      "text/html": [
       "<pre style=\"white-space:pre;overflow-x:auto;line-height:normal;font-family:Menlo,'DejaVu Sans Mono',consolas,'Courier New',monospace\">┏━━━━━━━━━━━━━━━━━━━━━━━━━━━━━━━━━┳━━━━━━━━━━━━━━━━━━━━━━━━┳━━━━━━━━━━━━━━━┓\n",
       "┃<span style=\"font-weight: bold\"> Layer (type)                    </span>┃<span style=\"font-weight: bold\"> Output Shape           </span>┃<span style=\"font-weight: bold\">       Param # </span>┃\n",
       "┡━━━━━━━━━━━━━━━━━━━━━━━━━━━━━━━━━╇━━━━━━━━━━━━━━━━━━━━━━━━╇━━━━━━━━━━━━━━━┩\n",
       "│ embedding_6 (<span style=\"color: #0087ff; text-decoration-color: #0087ff\">Embedding</span>)         │ ?                      │   <span style=\"color: #00af00; text-decoration-color: #00af00\">0</span> (unbuilt) │\n",
       "├─────────────────────────────────┼────────────────────────┼───────────────┤\n",
       "│ lstm_3 (<span style=\"color: #0087ff; text-decoration-color: #0087ff\">LSTM</span>)                   │ ?                      │   <span style=\"color: #00af00; text-decoration-color: #00af00\">0</span> (unbuilt) │\n",
       "├─────────────────────────────────┼────────────────────────┼───────────────┤\n",
       "│ dense_3 (<span style=\"color: #0087ff; text-decoration-color: #0087ff\">Dense</span>)                 │ ?                      │   <span style=\"color: #00af00; text-decoration-color: #00af00\">0</span> (unbuilt) │\n",
       "└─────────────────────────────────┴────────────────────────┴───────────────┘\n",
       "</pre>\n"
      ],
      "text/plain": [
       "┏━━━━━━━━━━━━━━━━━━━━━━━━━━━━━━━━━┳━━━━━━━━━━━━━━━━━━━━━━━━┳━━━━━━━━━━━━━━━┓\n",
       "┃\u001b[1m \u001b[0m\u001b[1mLayer (type)                   \u001b[0m\u001b[1m \u001b[0m┃\u001b[1m \u001b[0m\u001b[1mOutput Shape          \u001b[0m\u001b[1m \u001b[0m┃\u001b[1m \u001b[0m\u001b[1m      Param #\u001b[0m\u001b[1m \u001b[0m┃\n",
       "┡━━━━━━━━━━━━━━━━━━━━━━━━━━━━━━━━━╇━━━━━━━━━━━━━━━━━━━━━━━━╇━━━━━━━━━━━━━━━┩\n",
       "│ embedding_6 (\u001b[38;5;33mEmbedding\u001b[0m)         │ ?                      │   \u001b[38;5;34m0\u001b[0m (unbuilt) │\n",
       "├─────────────────────────────────┼────────────────────────┼───────────────┤\n",
       "│ lstm_3 (\u001b[38;5;33mLSTM\u001b[0m)                   │ ?                      │   \u001b[38;5;34m0\u001b[0m (unbuilt) │\n",
       "├─────────────────────────────────┼────────────────────────┼───────────────┤\n",
       "│ dense_3 (\u001b[38;5;33mDense\u001b[0m)                 │ ?                      │   \u001b[38;5;34m0\u001b[0m (unbuilt) │\n",
       "└─────────────────────────────────┴────────────────────────┴───────────────┘\n"
      ]
     },
     "metadata": {},
     "output_type": "display_data"
    },
    {
     "data": {
      "text/html": [
       "<pre style=\"white-space:pre;overflow-x:auto;line-height:normal;font-family:Menlo,'DejaVu Sans Mono',consolas,'Courier New',monospace\"><span style=\"font-weight: bold\"> Total params: </span><span style=\"color: #00af00; text-decoration-color: #00af00\">0</span> (0.00 B)\n",
       "</pre>\n"
      ],
      "text/plain": [
       "\u001b[1m Total params: \u001b[0m\u001b[38;5;34m0\u001b[0m (0.00 B)\n"
      ]
     },
     "metadata": {},
     "output_type": "display_data"
    },
    {
     "data": {
      "text/html": [
       "<pre style=\"white-space:pre;overflow-x:auto;line-height:normal;font-family:Menlo,'DejaVu Sans Mono',consolas,'Courier New',monospace\"><span style=\"font-weight: bold\"> Trainable params: </span><span style=\"color: #00af00; text-decoration-color: #00af00\">0</span> (0.00 B)\n",
       "</pre>\n"
      ],
      "text/plain": [
       "\u001b[1m Trainable params: \u001b[0m\u001b[38;5;34m0\u001b[0m (0.00 B)\n"
      ]
     },
     "metadata": {},
     "output_type": "display_data"
    },
    {
     "data": {
      "text/html": [
       "<pre style=\"white-space:pre;overflow-x:auto;line-height:normal;font-family:Menlo,'DejaVu Sans Mono',consolas,'Courier New',monospace\"><span style=\"font-weight: bold\"> Non-trainable params: </span><span style=\"color: #00af00; text-decoration-color: #00af00\">0</span> (0.00 B)\n",
       "</pre>\n"
      ],
      "text/plain": [
       "\u001b[1m Non-trainable params: \u001b[0m\u001b[38;5;34m0\u001b[0m (0.00 B)\n"
      ]
     },
     "metadata": {},
     "output_type": "display_data"
    }
   ],
   "source": [
    "model=Sequential()\n",
    "model.add(Embedding(input_dim=max_feature, output_dim=128)) \n",
    "model.add(LSTM(128))\n",
    "model.add(Dense(2,activation='softmax'))\n",
    "model.summary()"
   ]
  },
  {
   "cell_type": "code",
   "execution_count": 121,
   "id": "de2ab05a",
   "metadata": {},
   "outputs": [],
   "source": [
    "model.compile(loss='categorical_crossentropy',optimizer='adam',metrics=['accuracy'])"
   ]
  },
  {
   "cell_type": "code",
   "execution_count": 122,
   "id": "9cc4cfc1",
   "metadata": {},
   "outputs": [
    {
     "data": {
      "text/plain": [
       "<Sequential name=sequential_7, built=False>"
      ]
     },
     "execution_count": 122,
     "metadata": {},
     "output_type": "execute_result"
    }
   ],
   "source": [
    "model"
   ]
  },
  {
   "cell_type": "code",
   "execution_count": 123,
   "id": "b22009e6",
   "metadata": {},
   "outputs": [
    {
     "name": "stdout",
     "output_type": "stream",
     "text": [
      "Epoch 1/10\n",
      "1/1 - 2s - 2s/step - accuracy: 0.2857 - loss: 0.6926 - val_accuracy: 0.0000e+00 - val_loss: 0.7051\n",
      "Epoch 2/10\n",
      "1/1 - 0s - 66ms/step - accuracy: 0.8571 - loss: 0.6839 - val_accuracy: 0.3333 - val_loss: 0.7174\n",
      "Epoch 3/10\n",
      "1/1 - 0s - 59ms/step - accuracy: 0.8571 - loss: 0.6750 - val_accuracy: 0.3333 - val_loss: 0.7309\n",
      "Epoch 4/10\n",
      "1/1 - 0s - 64ms/step - accuracy: 0.8571 - loss: 0.6655 - val_accuracy: 0.3333 - val_loss: 0.7464\n",
      "Epoch 5/10\n",
      "1/1 - 0s - 61ms/step - accuracy: 0.8571 - loss: 0.6553 - val_accuracy: 0.3333 - val_loss: 0.7643\n",
      "Epoch 6/10\n",
      "1/1 - 0s - 54ms/step - accuracy: 0.8571 - loss: 0.6441 - val_accuracy: 0.3333 - val_loss: 0.7857\n",
      "Epoch 7/10\n",
      "1/1 - 0s - 64ms/step - accuracy: 0.8571 - loss: 0.6317 - val_accuracy: 0.0000e+00 - val_loss: 0.8113\n",
      "Epoch 8/10\n",
      "1/1 - 0s - 59ms/step - accuracy: 0.8571 - loss: 0.6178 - val_accuracy: 0.0000e+00 - val_loss: 0.8426\n",
      "Epoch 9/10\n",
      "1/1 - 0s - 58ms/step - accuracy: 0.8571 - loss: 0.6022 - val_accuracy: 0.0000e+00 - val_loss: 0.8810\n",
      "Epoch 10/10\n",
      "1/1 - 0s - 64ms/step - accuracy: 0.8571 - loss: 0.5848 - val_accuracy: 0.0000e+00 - val_loss: 0.9284\n"
     ]
    },
    {
     "data": {
      "text/plain": [
       "<keras.src.callbacks.history.History at 0x26e6b6eeab0>"
      ]
     },
     "execution_count": 123,
     "metadata": {},
     "output_type": "execute_result"
    }
   ],
   "source": [
    "model.fit(x_train,y_train,epochs=10,batch_size=128,verbose=2,validation_data=(x_test,y_test))"
   ]
  },
  {
   "cell_type": "markdown",
   "id": "74c5d279",
   "metadata": {},
   "source": [
    "## VALIDATION"
   ]
  },
  {
   "cell_type": "code",
   "execution_count": 124,
   "id": "0368d959",
   "metadata": {},
   "outputs": [
    {
     "name": "stdout",
     "output_type": "stream",
     "text": [
      "\u001b[1m1/1\u001b[0m \u001b[32m━━━━━━━━━━━━━━━━━━━━\u001b[0m\u001b[37m\u001b[0m \u001b[1m0s\u001b[0m 27ms/step - accuracy: 0.0000e+00 - loss: 0.9284\n",
      "0.9284446835517883\n",
      "0.0\n"
     ]
    }
   ],
   "source": [
    "score,acc=model.evaluate(x_test,y_test)\n",
    "print(score)\n",
    "print(acc)"
   ]
  },
  {
   "cell_type": "markdown",
   "id": "54087dde",
   "metadata": {},
   "source": [
    "## SAMPLE TESTING"
   ]
  },
  {
   "cell_type": "code",
   "execution_count": 125,
   "id": "0959b69f",
   "metadata": {},
   "outputs": [],
   "source": [
    "text='I am do not like him'\n",
    "tester=np.array([text])\n",
    "tester=pd.DataFrame(tester)\n",
    "tester.columns=['text']\n",
    "tester['text'] = tester['text'].apply(lambda x: x.lower())\n",
    "tester['text'] = tester['text'].apply(lambda x: re.sub(r'[^a-zA-Z0-9\\s]', '', x))"
   ]
  },
  {
   "cell_type": "code",
   "execution_count": 126,
   "id": "d4316611",
   "metadata": {},
   "outputs": [
    {
     "name": "stdout",
     "output_type": "stream",
     "text": [
      "                   text\n",
      "0  i am do not like him\n"
     ]
    }
   ],
   "source": [
    "print(tester)"
   ]
  },
  {
   "cell_type": "code",
   "execution_count": 127,
   "id": "bbde6369",
   "metadata": {},
   "outputs": [],
   "source": [
    "max_feature=2000\n",
    "test=tokenizer.texts_to_sequences(tester['text'].values)\n",
    "test=pad_sequences(x)"
   ]
  },
  {
   "cell_type": "code",
   "execution_count": 128,
   "id": "90b64b59",
   "metadata": {},
   "outputs": [
    {
     "data": {
      "text/plain": [
       "array([[ 0,  0,  0,  0,  1, 14,  2,  4],\n",
       "       [ 0,  0,  0,  0,  2,  5,  3, 15],\n",
       "       [ 0,  0,  0,  1,  6, 16,  2,  7],\n",
       "       [ 0,  1,  8, 17, 18, 19,  9, 10],\n",
       "       [ 0,  0,  0, 11,  3, 12, 20, 21],\n",
       "       [ 0,  0,  1, 22, 13, 23,  2,  4],\n",
       "       [ 0,  0,  0,  0,  2,  5,  3, 24],\n",
       "       [ 0,  0,  0,  1,  6, 25,  2,  7],\n",
       "       [ 1,  8, 13, 26, 27, 28,  9, 10],\n",
       "       [ 0,  0,  0,  0, 11,  3, 12, 29]])"
      ]
     },
     "execution_count": 128,
     "metadata": {},
     "output_type": "execute_result"
    }
   ],
   "source": [
    "test"
   ]
  },
  {
   "cell_type": "code",
   "execution_count": 129,
   "id": "fb57904a",
   "metadata": {},
   "outputs": [],
   "source": [
    "if x.shape[1] > test.shape[1]:\n",
    "    test=np.pad(test[0],(x.shape[1]-test.shape[1],0,'constant'))\n",
    "    "
   ]
  },
  {
   "cell_type": "code",
   "execution_count": 130,
   "id": "73c2098f",
   "metadata": {},
   "outputs": [
    {
     "data": {
      "text/plain": [
       "array([[ 0,  0,  0,  0,  1, 14,  2,  4],\n",
       "       [ 0,  0,  0,  0,  2,  5,  3, 15],\n",
       "       [ 0,  0,  0,  1,  6, 16,  2,  7],\n",
       "       [ 0,  1,  8, 17, 18, 19,  9, 10],\n",
       "       [ 0,  0,  0, 11,  3, 12, 20, 21],\n",
       "       [ 0,  0,  1, 22, 13, 23,  2,  4],\n",
       "       [ 0,  0,  0,  0,  2,  5,  3, 24],\n",
       "       [ 0,  0,  0,  1,  6, 25,  2,  7],\n",
       "       [ 1,  8, 13, 26, 27, 28,  9, 10],\n",
       "       [ 0,  0,  0,  0, 11,  3, 12, 29]])"
      ]
     },
     "execution_count": 130,
     "metadata": {},
     "output_type": "execute_result"
    }
   ],
   "source": [
    "test"
   ]
  },
  {
   "cell_type": "code",
   "execution_count": 131,
   "id": "05232d59",
   "metadata": {},
   "outputs": [
    {
     "name": "stdout",
     "output_type": "stream",
     "text": [
      "\u001b[1m1/1\u001b[0m \u001b[32m━━━━━━━━━━━━━━━━━━━━\u001b[0m\u001b[37m\u001b[0m \u001b[1m0s\u001b[0m 98ms/step\n"
     ]
    },
    {
     "data": {
      "text/plain": [
       "array([0.377089  , 0.62291104], dtype=float32)"
      ]
     },
     "execution_count": 131,
     "metadata": {},
     "output_type": "execute_result"
    }
   ],
   "source": [
    "prediciton=model.predict(test)\n",
    "prediciton[0]"
   ]
  },
  {
   "cell_type": "code",
   "execution_count": null,
   "id": "702446d3",
   "metadata": {},
   "outputs": [],
   "source": []
  },
  {
   "cell_type": "code",
   "execution_count": null,
   "id": "fea88b80",
   "metadata": {},
   "outputs": [],
   "source": []
  }
 ],
 "metadata": {
  "kernelspec": {
   "display_name": "base",
   "language": "python",
   "name": "python3"
  },
  "language_info": {
   "codemirror_mode": {
    "name": "ipython",
    "version": 3
   },
   "file_extension": ".py",
   "mimetype": "text/x-python",
   "name": "python",
   "nbconvert_exporter": "python",
   "pygments_lexer": "ipython3",
   "version": "3.12.7"
  }
 },
 "nbformat": 4,
 "nbformat_minor": 5
}
